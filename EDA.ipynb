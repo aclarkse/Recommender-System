{
 "cells": [
  {
   "cell_type": "code",
   "execution_count": 3,
   "metadata": {},
   "outputs": [],
   "source": [
    "import pandas as pd\n",
    "import numpy as np\n",
    "import seaborn as sns\n",
    "import matplotlib.pyplot as plt\n",
    "%matplotlib inline"
   ]
  },
  {
   "cell_type": "markdown",
   "metadata": {},
   "source": [
    "## Load and Read Data"
   ]
  },
  {
   "cell_type": "code",
   "execution_count": 4,
   "metadata": {},
   "outputs": [
    {
     "data": {
      "text/html": [
       "<div>\n",
       "<style scoped>\n",
       "    .dataframe tbody tr th:only-of-type {\n",
       "        vertical-align: middle;\n",
       "    }\n",
       "\n",
       "    .dataframe tbody tr th {\n",
       "        vertical-align: top;\n",
       "    }\n",
       "\n",
       "    .dataframe thead th {\n",
       "        text-align: right;\n",
       "    }\n",
       "</style>\n",
       "<table border=\"1\" class=\"dataframe\">\n",
       "  <thead>\n",
       "    <tr style=\"text-align: right;\">\n",
       "      <th></th>\n",
       "      <th>Client_Id</th>\n",
       "      <th>A1</th>\n",
       "      <th>A2</th>\n",
       "      <th>A3</th>\n",
       "      <th>A4</th>\n",
       "      <th>A5</th>\n",
       "      <th>D1</th>\n",
       "      <th>B1</th>\n",
       "      <th>D2</th>\n",
       "      <th>A6</th>\n",
       "      <th>...</th>\n",
       "      <th>B5</th>\n",
       "      <th>E9</th>\n",
       "      <th>E10</th>\n",
       "      <th>E11</th>\n",
       "      <th>E12</th>\n",
       "      <th>E13</th>\n",
       "      <th>B6</th>\n",
       "      <th>Rep.Level</th>\n",
       "      <th>Size</th>\n",
       "      <th>Industry</th>\n",
       "    </tr>\n",
       "  </thead>\n",
       "  <tbody>\n",
       "    <tr>\n",
       "      <th>0</th>\n",
       "      <td>1</td>\n",
       "      <td>0</td>\n",
       "      <td>0</td>\n",
       "      <td>0</td>\n",
       "      <td>1</td>\n",
       "      <td>1</td>\n",
       "      <td>0</td>\n",
       "      <td>0</td>\n",
       "      <td>0</td>\n",
       "      <td>1</td>\n",
       "      <td>...</td>\n",
       "      <td>0</td>\n",
       "      <td>0</td>\n",
       "      <td>0</td>\n",
       "      <td>0</td>\n",
       "      <td>0</td>\n",
       "      <td>0</td>\n",
       "      <td>0</td>\n",
       "      <td>Level 4</td>\n",
       "      <td>Size 3</td>\n",
       "      <td>Industry 10</td>\n",
       "    </tr>\n",
       "    <tr>\n",
       "      <th>1</th>\n",
       "      <td>2</td>\n",
       "      <td>0</td>\n",
       "      <td>0</td>\n",
       "      <td>0</td>\n",
       "      <td>0</td>\n",
       "      <td>0</td>\n",
       "      <td>0</td>\n",
       "      <td>0</td>\n",
       "      <td>0</td>\n",
       "      <td>0</td>\n",
       "      <td>...</td>\n",
       "      <td>0</td>\n",
       "      <td>0</td>\n",
       "      <td>1</td>\n",
       "      <td>0</td>\n",
       "      <td>0</td>\n",
       "      <td>1</td>\n",
       "      <td>0</td>\n",
       "      <td>Level 5</td>\n",
       "      <td>Size 4</td>\n",
       "      <td>Industry 6</td>\n",
       "    </tr>\n",
       "    <tr>\n",
       "      <th>2</th>\n",
       "      <td>3</td>\n",
       "      <td>0</td>\n",
       "      <td>0</td>\n",
       "      <td>0</td>\n",
       "      <td>0</td>\n",
       "      <td>0</td>\n",
       "      <td>0</td>\n",
       "      <td>0</td>\n",
       "      <td>0</td>\n",
       "      <td>0</td>\n",
       "      <td>...</td>\n",
       "      <td>0</td>\n",
       "      <td>0</td>\n",
       "      <td>0</td>\n",
       "      <td>0</td>\n",
       "      <td>0</td>\n",
       "      <td>0</td>\n",
       "      <td>0</td>\n",
       "      <td>Level 5</td>\n",
       "      <td>Size 4</td>\n",
       "      <td>Industry 10</td>\n",
       "    </tr>\n",
       "    <tr>\n",
       "      <th>3</th>\n",
       "      <td>4</td>\n",
       "      <td>0</td>\n",
       "      <td>0</td>\n",
       "      <td>0</td>\n",
       "      <td>1</td>\n",
       "      <td>1</td>\n",
       "      <td>0</td>\n",
       "      <td>0</td>\n",
       "      <td>0</td>\n",
       "      <td>1</td>\n",
       "      <td>...</td>\n",
       "      <td>0</td>\n",
       "      <td>0</td>\n",
       "      <td>0</td>\n",
       "      <td>0</td>\n",
       "      <td>0</td>\n",
       "      <td>0</td>\n",
       "      <td>0</td>\n",
       "      <td>Level 4</td>\n",
       "      <td>Size 2</td>\n",
       "      <td>Industry 12</td>\n",
       "    </tr>\n",
       "    <tr>\n",
       "      <th>4</th>\n",
       "      <td>5</td>\n",
       "      <td>0</td>\n",
       "      <td>0</td>\n",
       "      <td>0</td>\n",
       "      <td>1</td>\n",
       "      <td>1</td>\n",
       "      <td>0</td>\n",
       "      <td>0</td>\n",
       "      <td>0</td>\n",
       "      <td>0</td>\n",
       "      <td>...</td>\n",
       "      <td>0</td>\n",
       "      <td>0</td>\n",
       "      <td>0</td>\n",
       "      <td>0</td>\n",
       "      <td>0</td>\n",
       "      <td>0</td>\n",
       "      <td>0</td>\n",
       "      <td>Level 4</td>\n",
       "      <td>Size 3</td>\n",
       "      <td>Industry 10</td>\n",
       "    </tr>\n",
       "  </tbody>\n",
       "</table>\n",
       "<p>5 rows × 44 columns</p>\n",
       "</div>"
      ],
      "text/plain": [
       "   Client_Id  A1  A2  A3  A4  A5  D1  B1  D2  A6     ...       B5  E9  E10  \\\n",
       "0          1   0   0   0   1   1   0   0   0   1     ...        0   0    0   \n",
       "1          2   0   0   0   0   0   0   0   0   0     ...        0   0    1   \n",
       "2          3   0   0   0   0   0   0   0   0   0     ...        0   0    0   \n",
       "3          4   0   0   0   1   1   0   0   0   1     ...        0   0    0   \n",
       "4          5   0   0   0   1   1   0   0   0   0     ...        0   0    0   \n",
       "\n",
       "   E11  E12  E13  B6  Rep.Level    Size     Industry  \n",
       "0    0    0    0   0    Level 4  Size 3  Industry 10  \n",
       "1    0    0    1   0    Level 5  Size 4   Industry 6  \n",
       "2    0    0    0   0    Level 5  Size 4  Industry 10  \n",
       "3    0    0    0   0    Level 4  Size 2  Industry 12  \n",
       "4    0    0    0   0    Level 4  Size 3  Industry 10  \n",
       "\n",
       "[5 rows x 44 columns]"
      ]
     },
     "execution_count": 4,
     "metadata": {},
     "output_type": "execute_result"
    }
   ],
   "source": [
    "df = pd.read_csv('PAYX_dataset_2019Fall.csv',sep=',')\n",
    "df.head()"
   ]
  },
  {
   "cell_type": "code",
   "execution_count": 42,
   "metadata": {},
   "outputs": [
    {
     "data": {
      "text/plain": [
       "Level 4    147803\n",
       "Level 5    136204\n",
       "Level 2     34104\n",
       "Unknown     29402\n",
       "Level 3     20893\n",
       "Level 1     14119\n",
       "Name: Rep.Level, dtype: int64"
      ]
     },
     "execution_count": 42,
     "metadata": {},
     "output_type": "execute_result"
    }
   ],
   "source": [
    "df['Rep.Level'].value_counts()"
   ]
  },
  {
   "cell_type": "markdown",
   "metadata": {},
   "source": [
    "## Get Counts of High-Level and Low-Level Products"
   ]
  },
  {
   "cell_type": "code",
   "execution_count": 6,
   "metadata": {},
   "outputs": [],
   "source": [
    "# How many of Product A?\n",
    "A_1 = df['A1'].sum()\n",
    "A_2 = df['A2'].sum()\n",
    "A_3 = df['A3'].sum()\n",
    "A_4 = df['A4'].sum()\n",
    "A_5 = df['A5'].sum()\n",
    "A_6 = df['A6'].sum()\n",
    "A_7 = df['A7'].sum()\n",
    "A_8 = df['A8'].sum()\n",
    "A_9 = df['A9'].sum()\n",
    "A_total = A_1 + A_2 + A_3 + A_4 + A_5 + A_6 + A_7 + A_8 + A_9\n",
    "\n",
    "# How many of Product B?\n",
    "B_1 = df['B1'].sum()\n",
    "B_2 = df['B2'].sum()\n",
    "B_3 = df['B3'].sum()\n",
    "B_4 = df['B4'].sum()\n",
    "B_5 = df['B5'].sum()\n",
    "B_6 = df['B6'].sum()\n",
    "B_total = B_1 + B_2 + B_3 + B_4 + B_5 + B_6\n",
    "\n",
    "# How many of Product C?\n",
    "C_1 = df['C1'].sum()\n",
    "C_2 = df['C2'].sum()\n",
    "C_3 = df['C3'].sum()\n",
    "# NOTE: there is no 'C4' subclass!\n",
    "C_5 = df['C5'].sum()\n",
    "C_6 = df['C6'].sum()\n",
    "C_7 = df['C7'].sum()\n",
    "C_total = C_1 + C_2 + C_3 + C_5 + C_6 + C_7\n",
    "\n",
    "# How many of Product D?\n",
    "D_1 = df['D1'].sum()\n",
    "D_2 = df['D2'].sum()\n",
    "D_3 = df['D3'].sum()\n",
    "D_4 = df['D4'].sum()\n",
    "D_total = D_1 + D_2 + D_3 + D_4\n",
    "\n",
    "# How many of Product E?\n",
    "E_1 = df['E1'].sum()\n",
    "E_2 = df['E2'].sum()\n",
    "E_3 = df['E3'].sum()\n",
    "E_4 = df['E4'].sum()\n",
    "E_5 = df['E5'].sum()\n",
    "E_6 = df['E6'].sum()\n",
    "E_7 = df['E7'].sum()\n",
    "E_8 = df['E8'].sum()\n",
    "E_9 = df['E9'].sum()\n",
    "E_10 = df['E10'].sum()\n",
    "E_11 = df['E11'].sum()\n",
    "E_12 = df['E12'].sum()\n",
    "E_13 = df['E13'].sum()\n",
    "E_total = E_1 + E_2 + E_3 + E_4 + E_5 + E_6 + E_7 + E_8 + E_9 + E_10 + E_11 + E_12 + E_13\n",
    "\n",
    "# How many of Product F?\n",
    "F_1 = df['F1'].sum()\n",
    "F_2 = df['F2'].sum()\n",
    "F_total = F_1 + F_2"
   ]
  },
  {
   "cell_type": "markdown",
   "metadata": {},
   "source": [
    "### Product A"
   ]
  },
  {
   "cell_type": "code",
   "execution_count": 7,
   "metadata": {},
   "outputs": [
    {
     "data": {
      "text/plain": [
       "Text(0,0.5,'Count')"
      ]
     },
     "execution_count": 7,
     "metadata": {},
     "output_type": "execute_result"
    },
    {
     "data": {
      "image/png": "[encoded data removed]",
      "text/plain": [
       "<Figure size 432x288 with 1 Axes>"
      ]
     },
     "metadata": {},
     "output_type": "display_data"
    }
   ],
   "source": [
    "ax = sns.barplot(x=['A1', 'A2', 'A3', 'A4', 'A5', 'A6', 'A7', 'A8', 'A9'],\n",
    "                 y=[A_1, A_2, A_3, A_4, A_5, A_6, A_7, A_8, A_9], palette=\"Blues_d\")\n",
    "ax.set_title('Frequencies of Product-Type A')\n",
    "ax.set_ylabel('Count')"
   ]
  },
  {
   "cell_type": "markdown",
   "metadata": {},
   "source": [
    "### Product B"
   ]
  },
  {
   "cell_type": "code",
   "execution_count": 8,
   "metadata": {},
   "outputs": [
    {
     "data": {
      "text/plain": [
       "Text(0,0.5,'Count')"
      ]
     },
     "execution_count": 8,
     "metadata": {},
     "output_type": "execute_result"
    },
    {
     "data": {
      "image/png": "[encoded data removed]",
      "text/plain": [
       "<Figure size 432x288 with 1 Axes>"
      ]
     },
     "metadata": {},
     "output_type": "display_data"
    }
   ],
   "source": [
    "ax = sns.barplot(x=['B1', 'B2', 'B3', 'B4', 'B5', 'B6'],\n",
    "                 y=[B_1, B_2, B_3, B_4, B_5, B_6], palette=\"Blues_d\")\n",
    "ax.set_title('Frequencies of Product-Type B')\n",
    "ax.set_ylabel('Count')"
   ]
  },
  {
   "cell_type": "markdown",
   "metadata": {},
   "source": [
    "### Product C"
   ]
  },
  {
   "cell_type": "code",
   "execution_count": 9,
   "metadata": {},
   "outputs": [
    {
     "data": {
      "text/plain": [
       "Text(0,0.5,'Count')"
      ]
     },
     "execution_count": 9,
     "metadata": {},
     "output_type": "execute_result"
    },
    {
     "data": {
      "image/png": "[encoded data removed]",
      "text/plain": [
       "<Figure size 432x288 with 1 Axes>"
      ]
     },
     "metadata": {},
     "output_type": "display_data"
    }
   ],
   "source": [
    "ax = sns.barplot(x=['C1', 'C2', 'C3', 'C5', 'C6', 'C7'],\n",
    "                 y=[C_1, C_2, C_3, C_5, C_6, C_7], palette=\"Blues_d\")\n",
    "ax.set_title('Frequencies of Product-Type C')\n",
    "ax.set_ylabel('Count')"
   ]
  },
  {
   "cell_type": "markdown",
   "metadata": {},
   "source": [
    "### Product D"
   ]
  },
  {
   "cell_type": "code",
   "execution_count": 10,
   "metadata": {},
   "outputs": [
    {
     "data": {
      "text/plain": [
       "Text(0,0.5,'Count')"
      ]
     },
     "execution_count": 10,
     "metadata": {},
     "output_type": "execute_result"
    },
    {
     "data": {
      "image/png": "[encoded data removed]",
      "text/plain": [
       "<Figure size 432x288 with 1 Axes>"
      ]
     },
     "metadata": {},
     "output_type": "display_data"
    }
   ],
   "source": [
    "ax = sns.barplot(x=['D1', 'D2', 'D3', 'D4'],\n",
    "                 y=[D_1, D_2, D_3, D_4], palette=\"Blues_d\")\n",
    "ax.set_title('Frequencies of Product-Type D')\n",
    "ax.set_ylabel('Count')"
   ]
  },
  {
   "cell_type": "markdown",
   "metadata": {},
   "source": [
    "### Product E"
   ]
  },
  {
   "cell_type": "code",
   "execution_count": 11,
   "metadata": {},
   "outputs": [
    {
     "data": {
      "text/plain": [
       "Text(0,0.5,'Count')"
      ]
     },
     "execution_count": 11,
     "metadata": {},
     "output_type": "execute_result"
    },
    {
     "data": {
      "image/png": "[encoded data removed]",
      "text/plain": [
       "<Figure size 432x288 with 1 Axes>"
      ]
     },
     "metadata": {},
     "output_type": "display_data"
    }
   ],
   "source": [
    "ax = sns.barplot(x=['E1', 'E2', 'E3', 'E4', 'E5', 'E6', 'E7', 'E8', 'E9', 'E10', 'E11', 'E12', 'E13'],\n",
    "                 y=[E_1, E_2, E_3, E_4, E_5, E_6, E_7, E_8, E_9, E_10, E_11, E_12, E_12], palette=\"Blues_d\")\n",
    "ax.set_title('Frequencies of Product-Type E')\n",
    "ax.set_ylabel('Count')"
   ]
  },
  {
   "cell_type": "markdown",
   "metadata": {},
   "source": [
    "### Product F"
   ]
  },
  {
   "cell_type": "code",
   "execution_count": 12,
   "metadata": {},
   "outputs": [
    {
     "data": {
      "text/plain": [
       "Text(0,0.5,'Count')"
      ]
     },
     "execution_count": 12,
     "metadata": {},
     "output_type": "execute_result"
    },
    {
     "data": {
      "image/png": "[encoded data removed]",
      "text/plain": [
       "<Figure size 432x288 with 1 Axes>"
      ]
     },
     "metadata": {},
     "output_type": "display_data"
    }
   ],
   "source": [
    "ax = sns.barplot(x=['F1', 'F2'], y=[F_1, F_2], palette=\"Blues_d\")\n",
    "ax.set_title('Frequencies of Product-Type F')\n",
    "ax.set_ylabel('Count')"
   ]
  },
  {
   "cell_type": "code",
   "execution_count": 22,
   "metadata": {},
   "outputs": [],
   "source": [
    "# create a new copy of the dataframe to store high-level product categories\n",
    "df_high = df.copy()\n",
    "\n",
    "df_high['A'] = df[['A1', 'A2', 'A3', 'A4', 'A5', 'A6', 'A7', 'A8', 'A9']].sum(axis=1)\n",
    "df_high['B'] = df[['B1', 'B2', 'B3', 'B4', 'B5', 'B6']].sum(axis=1)\n",
    "df_high['C'] = df[['C1', 'C2', 'C3', 'C5', 'C6', 'C7']].sum(axis=1)\n",
    "df_high['D'] = df[['D1', 'D2', 'D3', 'D4']].sum(axis=1)\n",
    "df_high['E'] = df[['E1', 'E2', 'E3', 'E4', 'E5', 'E6', 'E7', 'E8', 'E9', 'E10', 'E11', 'E12', 'E13']].sum(axis=1)\n",
    "df_high['F'] = df[['F1', 'F2']].sum(axis=1)\n",
    "\n",
    "# drop all sub-level product categories from the copy\n",
    "df_high.drop(columns=['A1', 'A2', 'A3', 'A4', 'A5', 'A6', 'A7', 'A8', 'A9',\n",
    "                      'B1', 'B2', 'B3', 'B4', 'B5', 'B6', 'C1', 'C2', 'C3',\n",
    "                      'C5', 'C6', 'C7', 'D1', 'D2', 'D3', 'D4','E1', 'E2',\n",
    "                      'E3', 'E4', 'E5', 'E6', 'E7', 'E8', 'E9', 'E10', 'E11', 'E12',\n",
    "                      'E13', 'F1', 'F2'], inplace=True)"
   ]
  },
  {
   "cell_type": "code",
   "execution_count": 23,
   "metadata": {},
   "outputs": [
    {
     "data": {
      "text/html": [
       "<div>\n",
       "<style scoped>\n",
       "    .dataframe tbody tr th:only-of-type {\n",
       "        vertical-align: middle;\n",
       "    }\n",
       "\n",
       "    .dataframe tbody tr th {\n",
       "        vertical-align: top;\n",
       "    }\n",
       "\n",
       "    .dataframe thead th {\n",
       "        text-align: right;\n",
       "    }\n",
       "</style>\n",
       "<table border=\"1\" class=\"dataframe\">\n",
       "  <thead>\n",
       "    <tr style=\"text-align: right;\">\n",
       "      <th></th>\n",
       "      <th>Client_Id</th>\n",
       "      <th>Rep.Level</th>\n",
       "      <th>Size</th>\n",
       "      <th>Industry</th>\n",
       "      <th>A</th>\n",
       "      <th>B</th>\n",
       "      <th>C</th>\n",
       "      <th>D</th>\n",
       "      <th>E</th>\n",
       "      <th>F</th>\n",
       "    </tr>\n",
       "  </thead>\n",
       "  <tbody>\n",
       "    <tr>\n",
       "      <th>0</th>\n",
       "      <td>1</td>\n",
       "      <td>Level 4</td>\n",
       "      <td>Size 3</td>\n",
       "      <td>Industry 10</td>\n",
       "      <td>3</td>\n",
       "      <td>0</td>\n",
       "      <td>0</td>\n",
       "      <td>0</td>\n",
       "      <td>0</td>\n",
       "      <td>0</td>\n",
       "    </tr>\n",
       "    <tr>\n",
       "      <th>1</th>\n",
       "      <td>2</td>\n",
       "      <td>Level 5</td>\n",
       "      <td>Size 4</td>\n",
       "      <td>Industry 6</td>\n",
       "      <td>0</td>\n",
       "      <td>0</td>\n",
       "      <td>0</td>\n",
       "      <td>1</td>\n",
       "      <td>2</td>\n",
       "      <td>0</td>\n",
       "    </tr>\n",
       "    <tr>\n",
       "      <th>2</th>\n",
       "      <td>3</td>\n",
       "      <td>Level 5</td>\n",
       "      <td>Size 4</td>\n",
       "      <td>Industry 10</td>\n",
       "      <td>0</td>\n",
       "      <td>0</td>\n",
       "      <td>0</td>\n",
       "      <td>0</td>\n",
       "      <td>0</td>\n",
       "      <td>0</td>\n",
       "    </tr>\n",
       "    <tr>\n",
       "      <th>3</th>\n",
       "      <td>4</td>\n",
       "      <td>Level 4</td>\n",
       "      <td>Size 2</td>\n",
       "      <td>Industry 12</td>\n",
       "      <td>3</td>\n",
       "      <td>0</td>\n",
       "      <td>0</td>\n",
       "      <td>0</td>\n",
       "      <td>0</td>\n",
       "      <td>0</td>\n",
       "    </tr>\n",
       "    <tr>\n",
       "      <th>4</th>\n",
       "      <td>5</td>\n",
       "      <td>Level 4</td>\n",
       "      <td>Size 3</td>\n",
       "      <td>Industry 10</td>\n",
       "      <td>2</td>\n",
       "      <td>0</td>\n",
       "      <td>0</td>\n",
       "      <td>0</td>\n",
       "      <td>0</td>\n",
       "      <td>0</td>\n",
       "    </tr>\n",
       "  </tbody>\n",
       "</table>\n",
       "</div>"
      ],
      "text/plain": [
       "   Client_Id Rep.Level    Size     Industry  A  B  C  D  E  F\n",
       "0          1   Level 4  Size 3  Industry 10  3  0  0  0  0  0\n",
       "1          2   Level 5  Size 4   Industry 6  0  0  0  1  2  0\n",
       "2          3   Level 5  Size 4  Industry 10  0  0  0  0  0  0\n",
       "3          4   Level 4  Size 2  Industry 12  3  0  0  0  0  0\n",
       "4          5   Level 4  Size 3  Industry 10  2  0  0  0  0  0"
      ]
     },
     "execution_count": 23,
     "metadata": {},
     "output_type": "execute_result"
    }
   ],
   "source": [
    "df_high.head()"
   ]
  },
  {
   "cell_type": "markdown",
   "metadata": {},
   "source": [
    "## Plot Correlation Matrix of Products"
   ]
  },
  {
   "cell_type": "code",
   "execution_count": 20,
   "metadata": {},
   "outputs": [
    {
     "data": {
      "text/plain": [
       "<matplotlib.axes._subplots.AxesSubplot at 0x2ad185a9a668>"
      ]
     },
     "execution_count": 20,
     "metadata": {},
     "output_type": "execute_result"
    },
    {
     "data": {
      "image/png": "[encoded data removed]",
      "text/plain": [
       "<Figure size 720x576 with 2 Axes>"
      ]
     },
     "metadata": {},
     "output_type": "display_data"
    }
   ],
   "source": [
    "f, ax = plt.subplots(figsize=(10, 8))\n",
    "product_cats = df_high[['A', 'B', 'C', 'D', 'E', 'F']]\n",
    "# plot correlation matrix of product types\n",
    "prod_corr = product_cats.corr()\n",
    "\n",
    "# plot correlation matrix of product types\n",
    "sns.heatmap(prod_corr, mask=np.zeros_like(prod_corr, dtype=np.bool), cmap=sns.diverging_palette(220, 10, as_cmap=True),\n",
    "            square=True, ax=ax)"
   ]
  },
  {
   "cell_type": "markdown",
   "metadata": {},
   "source": [
    "## Plot Correlation Matrix of Client Features"
   ]
  },
  {
   "cell_type": "code",
   "execution_count": 48,
   "metadata": {},
   "outputs": [
    {
     "data": {
      "text/plain": [
       "<matplotlib.axes._subplots.AxesSubplot at 0x2ad1883fd748>"
      ]
     },
     "execution_count": 48,
     "metadata": {},
     "output_type": "execute_result"
    },
    {
     "data": {
      "image/png": "[encoded data removed]",
      "text/plain": [
       "<Figure size 720x576 with 2 Axes>"
      ]
     },
     "metadata": {},
     "output_type": "display_data"
    }
   ],
   "source": [
    "# map representative level to integers\n",
    "df_high['Rep.Level'] = df_high['Rep.Level'].astype(\"category\").cat.codes\n",
    "\n",
    "# map size to integers\n",
    "df_high['Size'] = df_high['Size'].astype(\"category\").cat.codes\n",
    "\n",
    "# map industry to integers\n",
    "df_high['Industry'] = df_high['Industry'].astype(\"category\").cat.codes\n",
    "\n",
    "f, ax = plt.subplots(figsize=(10, 8))\n",
    "# subset the client features\n",
    "client_feats = df_high[['Rep.Level','Size', 'Industry']]\n",
    "\n",
    "# plot correlation matrix of client features\n",
    "feats_corr = client_feats.corr()\n",
    "\n",
    "# plot correlation matrix of product types\n",
    "sns.heatmap(feats_corr, mask=np.zeros_like(feats_corr, dtype=np.bool), cmap=sns.diverging_palette(220, 10, as_cmap=True),\n",
    "            square=True, ax=ax)"
   ]
  },
  {
   "cell_type": "code",
   "execution_count": 7,
   "metadata": {},
   "outputs": [
    {
     "data": {
      "image/png": "[encoded data removed]",
      "text/plain": [
       "<Figure size 432x288 with 1 Axes>"
      ]
     },
     "metadata": {},
     "output_type": "display_data"
    }
   ],
   "source": [
    "df['Rep.Level'].value_counts().plot(kind='bar', title='Training Examples by Rep.Level')\n",
    "plt.show()"
   ]
  },
  {
   "cell_type": "code",
   "execution_count": 8,
   "metadata": {},
   "outputs": [
    {
     "data": {
      "image/png": "[encoded data removed]",
      "text/plain": [
       "<Figure size 432x288 with 1 Axes>"
      ]
     },
     "metadata": {},
     "output_type": "display_data"
    }
   ],
   "source": [
    "df['Size'].value_counts().plot(kind='bar', title='Training Examples by Size')\n",
    "plt.show()"
   ]
  },
  {
   "cell_type": "code",
   "execution_count": 9,
   "metadata": {},
   "outputs": [
    {
     "data": {
      "image/png": "[encoded data removed]",
      "text/plain": [
       "<Figure size 432x288 with 1 Axes>"
      ]
     },
     "metadata": {},
     "output_type": "display_data"
    }
   ],
   "source": [
    "df['Industry'].value_counts().plot(kind='bar', title='Training Examples by Industry')\n",
    "plt.show()"
   ]
  },
  {
   "cell_type": "code",
   "execution_count": 3,
   "metadata": {},
   "outputs": [
    {
     "name": "stdout",
     "output_type": "stream",
     "text": [
      "{'A1': 0, 'A2': 0, 'A3': 0, 'A4': 0, 'A5': 0, 'D1': 3, 'B1': 1, 'D2': 3, 'A6': 0, 'C1': 2, 'C2': 2, 'D3': 3, 'C3': 2, 'C5': 2, 'C6': 2, 'B2': 1, 'A7': 0, 'C7': 2, 'A8': 0, 'E1': 4, 'E2': 4, 'E3': 4, 'E4': 4, 'E5': 4, 'E6': 4, 'E7': 4, 'D4': 3, 'E8': 4, 'A9': 0, 'F1': 5, 'F2': 5, 'B3': 1, 'B4': 1, 'B5': 1, 'E9': 4, 'E10': 4, 'E11': 4, 'E12': 4}\n"
     ]
    }
   ],
   "source": [
    "##High-level product category \n",
    "PROD_FST_LVL_CAT = [\"A\", \"B\", \"C\", \"D\", \"E\", \"F\"] \n",
    "##Low-level product category \n",
    "PROD_SEC_LVL_CAT = ['A1', 'A2', 'A3', 'A4', 'A5', 'D1', 'B1', 'D2',\n",
    "       'A6', 'C1', 'C2', 'D3', 'C3', 'C5', 'C6', 'B2', 'A7', 'C7',\n",
    "       'A8', 'E1', 'E2', 'E3', 'E4', 'E5', 'E6', 'E7', 'D4', 'E8',\n",
    "       'A9', 'F1', 'F2', 'B3', 'B4', 'B5', 'E9', 'E10', 'E11', 'E12']\n",
    "##mapping ABCDEF to 012345\n",
    "CAT_IND  = {\"A\":0, \"B\":1, \"C\":2, \"D\":3, \"E\":4, \"F\":5} \n",
    "AFF_MAT  = np.zeros((len(PROD_FST_LVL_CAT), len(PROD_FST_LVL_CAT)))\n",
    "\n",
    "PROD_TO_IND = {}\n",
    "for name in PROD_SEC_LVL_CAT:\n",
    "    fst_lvl_name = name[0]\n",
    "    PROD_TO_IND[name] = CAT_IND[fst_lvl_name]\n",
    "print(PROD_TO_IND)"
   ]
  },
  {
   "cell_type": "code",
   "execution_count": 4,
   "metadata": {},
   "outputs": [
    {
     "data": {
      "text/plain": [
       "<Figure size 432x288 with 0 Axes>"
      ]
     },
     "metadata": {},
     "output_type": "display_data"
    },
    {
     "data": {
      "image/png": "[encoded data removed]",
      "text/plain": [
       "<Figure size 288x288 with 1 Axes>"
      ]
     },
     "metadata": {},
     "output_type": "display_data"
    }
   ],
   "source": [
    "#count the frequency for appereance of 0,1,2,3,4,5,(0,1),(1,2)....\n",
    "for ind, row in df.iterrows():\n",
    "    current_row_cls = [0] * len(PROD_FST_LVL_CAT)\n",
    "    for key in df.columns:\n",
    "        if key in PROD_TO_IND.keys() and row[key] > 0:\n",
    "            current_row_cls[PROD_TO_IND[key]] = 1\n",
    "    for cat_ind, flag in enumerate(current_row_cls):\n",
    "        if flag == 1:\n",
    "            ind_i = cat_ind\n",
    "            for other_cat_ind, other_flag in enumerate(current_row_cls):\n",
    "                if other_flag == 1:\n",
    "                    ind_j = other_cat_ind\n",
    "                    AFF_MAT[ind_i, ind_j] += 1\n",
    "plt.figure()\n",
    "plt.matshow(AFF_MAT)\n",
    "plt.show()"
   ]
  },
  {
   "cell_type": "code",
   "execution_count": 5,
   "metadata": {},
   "outputs": [
    {
     "data": {
      "text/plain": [
       "array([[ 79239.,  22812.,  13706.,  29193.,  10699.,  32840.],\n",
       "       [ 22812.,  49652.,  15307.,  20910.,   9178.,  21786.],\n",
       "       [ 13706.,  15307.,  58552.,  19832.,  15827.,  26523.],\n",
       "       [ 29193.,  20910.,  19832.,  87078.,  16510.,  44931.],\n",
       "       [ 10699.,   9178.,  15827.,  16510.,  35224.,  17897.],\n",
       "       [ 32840.,  21786.,  26523.,  44931.,  17897., 149512.]])"
      ]
     },
     "execution_count": 5,
     "metadata": {},
     "output_type": "execute_result"
    }
   ],
   "source": [
    "AFF_MAT"
   ]
  },
  {
   "cell_type": "code",
   "execution_count": null,
   "metadata": {},
   "outputs": [],
   "source": []
  }
 ],
 "metadata": {
  "kernelspec": {
   "display_name": "Python 3 (3.6.5)",
   "language": "python",
   "name": "python3"
  },
  "language_info": {
   "codemirror_mode": {
    "name": "ipython",
    "version": 3
   },
   "file_extension": ".py",
   "mimetype": "text/x-python",
   "name": "python",
   "nbconvert_exporter": "python",
   "pygments_lexer": "ipython3",
   "version": "3.6.5"
  }
 },
 "nbformat": 4,
 "nbformat_minor": 2
}
